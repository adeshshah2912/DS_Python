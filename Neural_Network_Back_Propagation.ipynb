{
  "nbformat": 4,
  "nbformat_minor": 0,
  "metadata": {
    "kernelspec": {
      "display_name": "Python 3",
      "language": "python",
      "name": "python3"
    },
    "language_info": {
      "codemirror_mode": {
        "name": "ipython",
        "version": 3
      },
      "file_extension": ".py",
      "mimetype": "text/x-python",
      "name": "python",
      "nbconvert_exporter": "python",
      "pygments_lexer": "ipython3",
      "version": "3.7.4"
    },
    "colab": {
      "name": "Neural Network_Back Propagation.ipynb",
      "provenance": [],
      "include_colab_link": true
    }
  },
  "cells": [
    {
      "cell_type": "markdown",
      "metadata": {
        "id": "view-in-github",
        "colab_type": "text"
      },
      "source": [
        "<a href=\"https://colab.research.google.com/github/adeshshah2912/DS_Python/blob/main/Neural_Network_Back_Propagation.ipynb\" target=\"_parent\"><img src=\"https://colab.research.google.com/assets/colab-badge.svg\" alt=\"Open In Colab\"/></a>"
      ]
    },
    {
      "cell_type": "code",
      "metadata": {
        "colab": {
          "base_uri": "https://localhost:8080/"
        },
        "id": "JtK3dfe-QA-y",
        "outputId": "3d6160bc-cad7-40d9-b275-ed26dd47b3d7"
      },
      "source": [
        "!pip install tensorflow"
      ],
      "execution_count": 1,
      "outputs": [
        {
          "output_type": "stream",
          "name": "stdout",
          "text": [
            "Requirement already satisfied: tensorflow in /usr/local/lib/python3.7/dist-packages (2.6.0)\n",
            "Requirement already satisfied: gast==0.4.0 in /usr/local/lib/python3.7/dist-packages (from tensorflow) (0.4.0)\n",
            "Requirement already satisfied: clang~=5.0 in /usr/local/lib/python3.7/dist-packages (from tensorflow) (5.0)\n",
            "Requirement already satisfied: protobuf>=3.9.2 in /usr/local/lib/python3.7/dist-packages (from tensorflow) (3.17.3)\n",
            "Requirement already satisfied: h5py~=3.1.0 in /usr/local/lib/python3.7/dist-packages (from tensorflow) (3.1.0)\n",
            "Requirement already satisfied: typing-extensions~=3.7.4 in /usr/local/lib/python3.7/dist-packages (from tensorflow) (3.7.4.3)\n",
            "Requirement already satisfied: wrapt~=1.12.1 in /usr/local/lib/python3.7/dist-packages (from tensorflow) (1.12.1)\n",
            "Requirement already satisfied: flatbuffers~=1.12.0 in /usr/local/lib/python3.7/dist-packages (from tensorflow) (1.12)\n",
            "Requirement already satisfied: numpy~=1.19.2 in /usr/local/lib/python3.7/dist-packages (from tensorflow) (1.19.5)\n",
            "Requirement already satisfied: tensorflow-estimator~=2.6 in /usr/local/lib/python3.7/dist-packages (from tensorflow) (2.6.0)\n",
            "Requirement already satisfied: tensorboard~=2.6 in /usr/local/lib/python3.7/dist-packages (from tensorflow) (2.6.0)\n",
            "Requirement already satisfied: six~=1.15.0 in /usr/local/lib/python3.7/dist-packages (from tensorflow) (1.15.0)\n",
            "Requirement already satisfied: opt-einsum~=3.3.0 in /usr/local/lib/python3.7/dist-packages (from tensorflow) (3.3.0)\n",
            "Requirement already satisfied: keras-preprocessing~=1.1.2 in /usr/local/lib/python3.7/dist-packages (from tensorflow) (1.1.2)\n",
            "Requirement already satisfied: keras~=2.6 in /usr/local/lib/python3.7/dist-packages (from tensorflow) (2.6.0)\n",
            "Requirement already satisfied: termcolor~=1.1.0 in /usr/local/lib/python3.7/dist-packages (from tensorflow) (1.1.0)\n",
            "Requirement already satisfied: absl-py~=0.10 in /usr/local/lib/python3.7/dist-packages (from tensorflow) (0.12.0)\n",
            "Requirement already satisfied: wheel~=0.35 in /usr/local/lib/python3.7/dist-packages (from tensorflow) (0.37.0)\n",
            "Requirement already satisfied: grpcio<2.0,>=1.37.0 in /usr/local/lib/python3.7/dist-packages (from tensorflow) (1.41.0)\n",
            "Requirement already satisfied: astunparse~=1.6.3 in /usr/local/lib/python3.7/dist-packages (from tensorflow) (1.6.3)\n",
            "Requirement already satisfied: google-pasta~=0.2 in /usr/local/lib/python3.7/dist-packages (from tensorflow) (0.2.0)\n",
            "Requirement already satisfied: cached-property in /usr/local/lib/python3.7/dist-packages (from h5py~=3.1.0->tensorflow) (1.5.2)\n",
            "Requirement already satisfied: tensorboard-plugin-wit>=1.6.0 in /usr/local/lib/python3.7/dist-packages (from tensorboard~=2.6->tensorflow) (1.8.0)\n",
            "Requirement already satisfied: werkzeug>=0.11.15 in /usr/local/lib/python3.7/dist-packages (from tensorboard~=2.6->tensorflow) (1.0.1)\n",
            "Requirement already satisfied: setuptools>=41.0.0 in /usr/local/lib/python3.7/dist-packages (from tensorboard~=2.6->tensorflow) (57.4.0)\n",
            "Requirement already satisfied: markdown>=2.6.8 in /usr/local/lib/python3.7/dist-packages (from tensorboard~=2.6->tensorflow) (3.3.4)\n",
            "Requirement already satisfied: google-auth-oauthlib<0.5,>=0.4.1 in /usr/local/lib/python3.7/dist-packages (from tensorboard~=2.6->tensorflow) (0.4.6)\n",
            "Requirement already satisfied: google-auth<2,>=1.6.3 in /usr/local/lib/python3.7/dist-packages (from tensorboard~=2.6->tensorflow) (1.35.0)\n",
            "Requirement already satisfied: tensorboard-data-server<0.7.0,>=0.6.0 in /usr/local/lib/python3.7/dist-packages (from tensorboard~=2.6->tensorflow) (0.6.1)\n",
            "Requirement already satisfied: requests<3,>=2.21.0 in /usr/local/lib/python3.7/dist-packages (from tensorboard~=2.6->tensorflow) (2.23.0)\n",
            "Requirement already satisfied: cachetools<5.0,>=2.0.0 in /usr/local/lib/python3.7/dist-packages (from google-auth<2,>=1.6.3->tensorboard~=2.6->tensorflow) (4.2.4)\n",
            "Requirement already satisfied: pyasn1-modules>=0.2.1 in /usr/local/lib/python3.7/dist-packages (from google-auth<2,>=1.6.3->tensorboard~=2.6->tensorflow) (0.2.8)\n",
            "Requirement already satisfied: rsa<5,>=3.1.4 in /usr/local/lib/python3.7/dist-packages (from google-auth<2,>=1.6.3->tensorboard~=2.6->tensorflow) (4.7.2)\n",
            "Requirement already satisfied: requests-oauthlib>=0.7.0 in /usr/local/lib/python3.7/dist-packages (from google-auth-oauthlib<0.5,>=0.4.1->tensorboard~=2.6->tensorflow) (1.3.0)\n",
            "Requirement already satisfied: importlib-metadata in /usr/local/lib/python3.7/dist-packages (from markdown>=2.6.8->tensorboard~=2.6->tensorflow) (4.8.1)\n",
            "Requirement already satisfied: pyasn1<0.5.0,>=0.4.6 in /usr/local/lib/python3.7/dist-packages (from pyasn1-modules>=0.2.1->google-auth<2,>=1.6.3->tensorboard~=2.6->tensorflow) (0.4.8)\n",
            "Requirement already satisfied: chardet<4,>=3.0.2 in /usr/local/lib/python3.7/dist-packages (from requests<3,>=2.21.0->tensorboard~=2.6->tensorflow) (3.0.4)\n",
            "Requirement already satisfied: urllib3!=1.25.0,!=1.25.1,<1.26,>=1.21.1 in /usr/local/lib/python3.7/dist-packages (from requests<3,>=2.21.0->tensorboard~=2.6->tensorflow) (1.24.3)\n",
            "Requirement already satisfied: idna<3,>=2.5 in /usr/local/lib/python3.7/dist-packages (from requests<3,>=2.21.0->tensorboard~=2.6->tensorflow) (2.10)\n",
            "Requirement already satisfied: certifi>=2017.4.17 in /usr/local/lib/python3.7/dist-packages (from requests<3,>=2.21.0->tensorboard~=2.6->tensorflow) (2021.5.30)\n",
            "Requirement already satisfied: oauthlib>=3.0.0 in /usr/local/lib/python3.7/dist-packages (from requests-oauthlib>=0.7.0->google-auth-oauthlib<0.5,>=0.4.1->tensorboard~=2.6->tensorflow) (3.1.1)\n",
            "Requirement already satisfied: zipp>=0.5 in /usr/local/lib/python3.7/dist-packages (from importlib-metadata->markdown>=2.6.8->tensorboard~=2.6->tensorflow) (3.6.0)\n"
          ]
        }
      ]
    },
    {
      "cell_type": "code",
      "metadata": {
        "colab": {
          "base_uri": "https://localhost:8080/"
        },
        "id": "dQZ3TE8lQC2-",
        "outputId": "4b3d4533-b5d4-4ad7-b76d-82a1e256d3a4"
      },
      "source": [
        "!pip install keras"
      ],
      "execution_count": 2,
      "outputs": [
        {
          "output_type": "stream",
          "name": "stdout",
          "text": [
            "Requirement already satisfied: keras in /usr/local/lib/python3.7/dist-packages (2.6.0)\n"
          ]
        }
      ]
    },
    {
      "cell_type": "code",
      "metadata": {
        "id": "1nfe16v7Pzo3"
      },
      "source": [
        "# Create your first MLP in Keras\n",
        "from keras.models import Sequential\n",
        "from keras.layers import Dense\n",
        "import numpy\n"
      ],
      "execution_count": 3,
      "outputs": []
    },
    {
      "cell_type": "code",
      "metadata": {
        "id": "nw4V2EPoPzo6"
      },
      "source": [
        "# fix random seed for reproducibility\n",
        "seed = 7\n",
        "numpy.random.seed(seed)\n",
        "# load pima indians dataset\n",
        "dataset = numpy.loadtxt(\"/content/pima-indians-diabetes.data.csv\", delimiter=\",\")\n",
        "# split into input (X) and output (Y) variables\n",
        "X = dataset[:,0:8]\n",
        "Y = dataset[:,8]\n"
      ],
      "execution_count": 5,
      "outputs": []
    },
    {
      "cell_type": "code",
      "metadata": {
        "id": "DEHMd-0xPzo7"
      },
      "source": [
        "# create model\n",
        "model = Sequential()\n",
        "model.add(Dense(8, input_dim=8,  activation='relu'))\n",
        "model.add(Dense(8, activation='relu'))\n",
        "model.add(Dense(1,  activation='sigmoid'))"
      ],
      "execution_count": 8,
      "outputs": []
    },
    {
      "cell_type": "markdown",
      "metadata": {
        "id": "sUq_zJJkPzo8"
      },
      "source": [
        "![image.png](attachment:image.png)"
      ]
    },
    {
      "cell_type": "code",
      "metadata": {
        "id": "unZAYeKTPzo9"
      },
      "source": [
        "# Compile model\n",
        "model.compile(loss='binary_crossentropy', optimizer='adam', metrics=['accuracy'])"
      ],
      "execution_count": 9,
      "outputs": []
    },
    {
      "cell_type": "code",
      "metadata": {
        "colab": {
          "base_uri": "https://localhost:8080/"
        },
        "id": "E7IJbytkPzo-",
        "outputId": "27752309-7934-4aef-c57d-77c5fd292bd4"
      },
      "source": [
        "# Fit the model\n",
        "model.fit(X, Y, validation_split=0.33, epochs=150, batch_size=10)"
      ],
      "execution_count": 11,
      "outputs": [
        {
          "output_type": "stream",
          "name": "stdout",
          "text": [
            "Epoch 1/150\n",
            "52/52 [==============================] - 1s 6ms/step - loss: 7.0364 - accuracy: 0.6401 - val_loss: 4.5564 - val_accuracy: 0.6181\n",
            "Epoch 2/150\n",
            "52/52 [==============================] - 0s 2ms/step - loss: 3.3498 - accuracy: 0.6109 - val_loss: 1.9690 - val_accuracy: 0.6535\n",
            "Epoch 3/150\n",
            "52/52 [==============================] - 0s 2ms/step - loss: 1.9739 - accuracy: 0.5837 - val_loss: 1.7600 - val_accuracy: 0.6417\n",
            "Epoch 4/150\n",
            "52/52 [==============================] - 0s 3ms/step - loss: 1.6685 - accuracy: 0.6012 - val_loss: 1.4993 - val_accuracy: 0.6378\n",
            "Epoch 5/150\n",
            "52/52 [==============================] - 0s 2ms/step - loss: 1.4661 - accuracy: 0.5895 - val_loss: 1.2844 - val_accuracy: 0.6457\n",
            "Epoch 6/150\n",
            "52/52 [==============================] - 0s 3ms/step - loss: 1.2840 - accuracy: 0.5934 - val_loss: 1.1921 - val_accuracy: 0.5906\n",
            "Epoch 7/150\n",
            "52/52 [==============================] - 0s 3ms/step - loss: 1.1773 - accuracy: 0.5700 - val_loss: 0.9866 - val_accuracy: 0.6614\n",
            "Epoch 8/150\n",
            "52/52 [==============================] - 0s 3ms/step - loss: 1.0256 - accuracy: 0.6012 - val_loss: 0.8900 - val_accuracy: 0.6654\n",
            "Epoch 9/150\n",
            "52/52 [==============================] - 0s 2ms/step - loss: 0.9035 - accuracy: 0.5992 - val_loss: 0.8611 - val_accuracy: 0.6142\n",
            "Epoch 10/150\n",
            "52/52 [==============================] - 0s 3ms/step - loss: 0.8520 - accuracy: 0.5953 - val_loss: 0.7599 - val_accuracy: 0.7087\n",
            "Epoch 11/150\n",
            "52/52 [==============================] - 0s 2ms/step - loss: 0.7806 - accuracy: 0.6012 - val_loss: 0.7096 - val_accuracy: 0.6969\n",
            "Epoch 12/150\n",
            "52/52 [==============================] - 0s 3ms/step - loss: 0.7306 - accuracy: 0.6051 - val_loss: 0.6965 - val_accuracy: 0.6693\n",
            "Epoch 13/150\n",
            "52/52 [==============================] - 0s 3ms/step - loss: 0.7021 - accuracy: 0.5953 - val_loss: 0.6646 - val_accuracy: 0.7126\n",
            "Epoch 14/150\n",
            "52/52 [==============================] - 0s 2ms/step - loss: 0.6767 - accuracy: 0.6420 - val_loss: 0.6831 - val_accuracy: 0.6457\n",
            "Epoch 15/150\n",
            "52/52 [==============================] - 0s 2ms/step - loss: 0.6655 - accuracy: 0.6537 - val_loss: 0.6475 - val_accuracy: 0.6929\n",
            "Epoch 16/150\n",
            "52/52 [==============================] - 0s 2ms/step - loss: 0.6596 - accuracy: 0.6790 - val_loss: 0.6617 - val_accuracy: 0.6575\n",
            "Epoch 17/150\n",
            "52/52 [==============================] - 0s 3ms/step - loss: 0.6681 - accuracy: 0.6401 - val_loss: 0.6306 - val_accuracy: 0.6654\n",
            "Epoch 18/150\n",
            "52/52 [==============================] - 0s 2ms/step - loss: 0.6282 - accuracy: 0.6829 - val_loss: 0.6254 - val_accuracy: 0.6969\n",
            "Epoch 19/150\n",
            "52/52 [==============================] - 0s 2ms/step - loss: 0.6205 - accuracy: 0.6809 - val_loss: 0.6489 - val_accuracy: 0.6614\n",
            "Epoch 20/150\n",
            "52/52 [==============================] - 0s 3ms/step - loss: 0.6248 - accuracy: 0.6654 - val_loss: 0.6453 - val_accuracy: 0.6969\n",
            "Epoch 21/150\n",
            "52/52 [==============================] - 0s 2ms/step - loss: 0.6217 - accuracy: 0.6693 - val_loss: 0.6506 - val_accuracy: 0.6614\n",
            "Epoch 22/150\n",
            "52/52 [==============================] - 0s 2ms/step - loss: 0.6133 - accuracy: 0.6868 - val_loss: 0.6772 - val_accuracy: 0.6181\n",
            "Epoch 23/150\n",
            "52/52 [==============================] - 0s 3ms/step - loss: 0.6332 - accuracy: 0.6693 - val_loss: 0.6489 - val_accuracy: 0.6614\n",
            "Epoch 24/150\n",
            "52/52 [==============================] - 0s 2ms/step - loss: 0.6095 - accuracy: 0.6926 - val_loss: 0.6468 - val_accuracy: 0.6811\n",
            "Epoch 25/150\n",
            "52/52 [==============================] - 0s 2ms/step - loss: 0.6030 - accuracy: 0.6868 - val_loss: 0.6487 - val_accuracy: 0.6929\n",
            "Epoch 26/150\n",
            "52/52 [==============================] - 0s 3ms/step - loss: 0.6045 - accuracy: 0.6965 - val_loss: 0.6457 - val_accuracy: 0.6693\n",
            "Epoch 27/150\n",
            "52/52 [==============================] - 0s 3ms/step - loss: 0.5988 - accuracy: 0.6809 - val_loss: 0.6343 - val_accuracy: 0.6969\n",
            "Epoch 28/150\n",
            "52/52 [==============================] - 0s 2ms/step - loss: 0.5957 - accuracy: 0.7023 - val_loss: 0.6376 - val_accuracy: 0.6732\n",
            "Epoch 29/150\n",
            "52/52 [==============================] - 0s 3ms/step - loss: 0.6197 - accuracy: 0.6907 - val_loss: 0.6311 - val_accuracy: 0.6811\n",
            "Epoch 30/150\n",
            "52/52 [==============================] - 0s 3ms/step - loss: 0.6050 - accuracy: 0.6984 - val_loss: 0.6326 - val_accuracy: 0.6732\n",
            "Epoch 31/150\n",
            "52/52 [==============================] - 0s 2ms/step - loss: 0.6019 - accuracy: 0.6809 - val_loss: 0.6485 - val_accuracy: 0.7008\n",
            "Epoch 32/150\n",
            "52/52 [==============================] - 0s 2ms/step - loss: 0.5953 - accuracy: 0.6984 - val_loss: 0.6562 - val_accuracy: 0.6693\n",
            "Epoch 33/150\n",
            "52/52 [==============================] - 0s 2ms/step - loss: 0.6077 - accuracy: 0.6809 - val_loss: 0.6674 - val_accuracy: 0.6260\n",
            "Epoch 34/150\n",
            "52/52 [==============================] - 0s 2ms/step - loss: 0.5970 - accuracy: 0.6946 - val_loss: 0.6300 - val_accuracy: 0.6890\n",
            "Epoch 35/150\n",
            "52/52 [==============================] - 0s 3ms/step - loss: 0.5833 - accuracy: 0.6984 - val_loss: 0.6295 - val_accuracy: 0.6969\n",
            "Epoch 36/150\n",
            "52/52 [==============================] - 0s 2ms/step - loss: 0.5808 - accuracy: 0.7023 - val_loss: 0.6595 - val_accuracy: 0.6535\n",
            "Epoch 37/150\n",
            "52/52 [==============================] - 0s 3ms/step - loss: 0.5794 - accuracy: 0.6907 - val_loss: 0.6871 - val_accuracy: 0.6299\n",
            "Epoch 38/150\n",
            "52/52 [==============================] - 0s 3ms/step - loss: 0.5761 - accuracy: 0.7160 - val_loss: 0.6283 - val_accuracy: 0.6772\n",
            "Epoch 39/150\n",
            "52/52 [==============================] - 0s 2ms/step - loss: 0.5845 - accuracy: 0.6946 - val_loss: 0.6363 - val_accuracy: 0.6732\n",
            "Epoch 40/150\n",
            "52/52 [==============================] - 0s 2ms/step - loss: 0.5875 - accuracy: 0.6965 - val_loss: 0.6409 - val_accuracy: 0.6732\n",
            "Epoch 41/150\n",
            "52/52 [==============================] - 0s 3ms/step - loss: 0.5681 - accuracy: 0.7121 - val_loss: 0.6321 - val_accuracy: 0.7008\n",
            "Epoch 42/150\n",
            "52/52 [==============================] - 0s 2ms/step - loss: 0.5802 - accuracy: 0.6984 - val_loss: 0.6343 - val_accuracy: 0.6929\n",
            "Epoch 43/150\n",
            "52/52 [==============================] - 0s 2ms/step - loss: 0.5699 - accuracy: 0.7101 - val_loss: 0.6206 - val_accuracy: 0.7165\n",
            "Epoch 44/150\n",
            "52/52 [==============================] - 0s 3ms/step - loss: 0.5701 - accuracy: 0.7062 - val_loss: 0.6447 - val_accuracy: 0.6614\n",
            "Epoch 45/150\n",
            "52/52 [==============================] - 0s 3ms/step - loss: 0.5781 - accuracy: 0.7101 - val_loss: 0.6150 - val_accuracy: 0.7047\n",
            "Epoch 46/150\n",
            "52/52 [==============================] - 0s 2ms/step - loss: 0.5815 - accuracy: 0.7121 - val_loss: 0.6057 - val_accuracy: 0.6890\n",
            "Epoch 47/150\n",
            "52/52 [==============================] - 0s 2ms/step - loss: 0.5686 - accuracy: 0.7121 - val_loss: 0.6080 - val_accuracy: 0.7126\n",
            "Epoch 48/150\n",
            "52/52 [==============================] - 0s 3ms/step - loss: 0.5830 - accuracy: 0.7198 - val_loss: 0.6479 - val_accuracy: 0.6535\n",
            "Epoch 49/150\n",
            "52/52 [==============================] - 0s 2ms/step - loss: 0.5799 - accuracy: 0.7296 - val_loss: 0.6332 - val_accuracy: 0.6850\n",
            "Epoch 50/150\n",
            "52/52 [==============================] - 0s 3ms/step - loss: 0.5681 - accuracy: 0.7101 - val_loss: 0.6297 - val_accuracy: 0.6850\n",
            "Epoch 51/150\n",
            "52/52 [==============================] - 0s 2ms/step - loss: 0.5814 - accuracy: 0.7101 - val_loss: 0.6267 - val_accuracy: 0.7008\n",
            "Epoch 52/150\n",
            "52/52 [==============================] - 0s 3ms/step - loss: 0.5605 - accuracy: 0.7140 - val_loss: 0.5976 - val_accuracy: 0.7047\n",
            "Epoch 53/150\n",
            "52/52 [==============================] - 0s 3ms/step - loss: 0.5725 - accuracy: 0.7062 - val_loss: 0.6024 - val_accuracy: 0.7165\n",
            "Epoch 54/150\n",
            "52/52 [==============================] - 0s 3ms/step - loss: 0.5680 - accuracy: 0.7160 - val_loss: 0.6051 - val_accuracy: 0.7047\n",
            "Epoch 55/150\n",
            "52/52 [==============================] - 0s 3ms/step - loss: 0.5786 - accuracy: 0.6790 - val_loss: 0.6091 - val_accuracy: 0.6969\n",
            "Epoch 56/150\n",
            "52/52 [==============================] - 0s 3ms/step - loss: 0.5751 - accuracy: 0.7198 - val_loss: 0.6165 - val_accuracy: 0.7165\n",
            "Epoch 57/150\n",
            "52/52 [==============================] - 0s 2ms/step - loss: 0.5535 - accuracy: 0.7276 - val_loss: 0.6083 - val_accuracy: 0.7047\n",
            "Epoch 58/150\n",
            "52/52 [==============================] - 0s 2ms/step - loss: 0.5530 - accuracy: 0.7296 - val_loss: 0.6087 - val_accuracy: 0.7008\n",
            "Epoch 59/150\n",
            "52/52 [==============================] - 0s 3ms/step - loss: 0.5512 - accuracy: 0.7354 - val_loss: 0.6703 - val_accuracy: 0.6535\n",
            "Epoch 60/150\n",
            "52/52 [==============================] - 0s 3ms/step - loss: 0.5980 - accuracy: 0.7101 - val_loss: 0.6425 - val_accuracy: 0.6614\n",
            "Epoch 61/150\n",
            "52/52 [==============================] - 0s 2ms/step - loss: 0.5688 - accuracy: 0.6907 - val_loss: 0.6078 - val_accuracy: 0.6969\n",
            "Epoch 62/150\n",
            "52/52 [==============================] - 0s 2ms/step - loss: 0.5480 - accuracy: 0.7432 - val_loss: 0.6489 - val_accuracy: 0.6575\n",
            "Epoch 63/150\n",
            "52/52 [==============================] - 0s 3ms/step - loss: 0.5667 - accuracy: 0.7335 - val_loss: 0.6250 - val_accuracy: 0.6732\n",
            "Epoch 64/150\n",
            "52/52 [==============================] - 0s 2ms/step - loss: 0.5575 - accuracy: 0.7296 - val_loss: 0.6235 - val_accuracy: 0.7047\n",
            "Epoch 65/150\n",
            "52/52 [==============================] - 0s 3ms/step - loss: 0.5609 - accuracy: 0.7179 - val_loss: 0.5953 - val_accuracy: 0.7362\n",
            "Epoch 66/150\n",
            "52/52 [==============================] - 0s 2ms/step - loss: 0.5632 - accuracy: 0.7198 - val_loss: 0.6082 - val_accuracy: 0.7165\n",
            "Epoch 67/150\n",
            "52/52 [==============================] - 0s 2ms/step - loss: 0.5486 - accuracy: 0.7354 - val_loss: 0.5928 - val_accuracy: 0.7087\n",
            "Epoch 68/150\n",
            "52/52 [==============================] - 0s 2ms/step - loss: 0.5542 - accuracy: 0.7374 - val_loss: 0.5952 - val_accuracy: 0.7165\n",
            "Epoch 69/150\n",
            "52/52 [==============================] - 0s 2ms/step - loss: 0.5368 - accuracy: 0.7237 - val_loss: 0.5906 - val_accuracy: 0.7244\n",
            "Epoch 70/150\n",
            "52/52 [==============================] - 0s 3ms/step - loss: 0.5515 - accuracy: 0.7237 - val_loss: 0.5832 - val_accuracy: 0.7205\n",
            "Epoch 71/150\n",
            "52/52 [==============================] - 0s 3ms/step - loss: 0.5488 - accuracy: 0.7471 - val_loss: 0.5815 - val_accuracy: 0.7244\n",
            "Epoch 72/150\n",
            "52/52 [==============================] - 0s 2ms/step - loss: 0.5539 - accuracy: 0.7218 - val_loss: 0.6056 - val_accuracy: 0.7008\n",
            "Epoch 73/150\n",
            "52/52 [==============================] - 0s 2ms/step - loss: 0.5410 - accuracy: 0.7412 - val_loss: 0.6022 - val_accuracy: 0.6969\n",
            "Epoch 74/150\n",
            "52/52 [==============================] - 0s 3ms/step - loss: 0.5629 - accuracy: 0.7140 - val_loss: 0.6239 - val_accuracy: 0.7008\n",
            "Epoch 75/150\n",
            "52/52 [==============================] - 0s 2ms/step - loss: 0.5617 - accuracy: 0.7062 - val_loss: 0.5860 - val_accuracy: 0.7205\n",
            "Epoch 76/150\n",
            "52/52 [==============================] - 0s 3ms/step - loss: 0.5473 - accuracy: 0.7257 - val_loss: 0.5831 - val_accuracy: 0.7402\n",
            "Epoch 77/150\n",
            "52/52 [==============================] - 0s 3ms/step - loss: 0.5465 - accuracy: 0.7393 - val_loss: 0.5994 - val_accuracy: 0.7087\n",
            "Epoch 78/150\n",
            "52/52 [==============================] - 0s 3ms/step - loss: 0.5468 - accuracy: 0.7393 - val_loss: 0.5864 - val_accuracy: 0.7165\n",
            "Epoch 79/150\n",
            "52/52 [==============================] - 0s 2ms/step - loss: 0.5371 - accuracy: 0.7451 - val_loss: 0.6182 - val_accuracy: 0.6693\n",
            "Epoch 80/150\n",
            "52/52 [==============================] - 0s 2ms/step - loss: 0.5824 - accuracy: 0.7082 - val_loss: 0.6316 - val_accuracy: 0.6969\n",
            "Epoch 81/150\n",
            "52/52 [==============================] - 0s 3ms/step - loss: 0.5429 - accuracy: 0.7490 - val_loss: 0.5871 - val_accuracy: 0.7165\n",
            "Epoch 82/150\n",
            "52/52 [==============================] - 0s 2ms/step - loss: 0.5401 - accuracy: 0.7432 - val_loss: 0.5973 - val_accuracy: 0.7205\n",
            "Epoch 83/150\n",
            "52/52 [==============================] - 0s 2ms/step - loss: 0.5370 - accuracy: 0.7412 - val_loss: 0.6345 - val_accuracy: 0.6811\n",
            "Epoch 84/150\n",
            "52/52 [==============================] - 0s 2ms/step - loss: 0.5332 - accuracy: 0.7335 - val_loss: 0.6121 - val_accuracy: 0.6732\n",
            "Epoch 85/150\n",
            "52/52 [==============================] - 0s 3ms/step - loss: 0.5377 - accuracy: 0.7374 - val_loss: 0.6068 - val_accuracy: 0.6969\n",
            "Epoch 86/150\n",
            "52/52 [==============================] - 0s 3ms/step - loss: 0.5718 - accuracy: 0.7082 - val_loss: 0.6008 - val_accuracy: 0.7008\n",
            "Epoch 87/150\n",
            "52/52 [==============================] - 0s 2ms/step - loss: 0.5370 - accuracy: 0.7198 - val_loss: 0.5885 - val_accuracy: 0.7165\n",
            "Epoch 88/150\n",
            "52/52 [==============================] - 0s 2ms/step - loss: 0.5347 - accuracy: 0.7393 - val_loss: 0.5879 - val_accuracy: 0.7165\n",
            "Epoch 89/150\n",
            "52/52 [==============================] - 0s 3ms/step - loss: 0.5277 - accuracy: 0.7451 - val_loss: 0.5865 - val_accuracy: 0.7283\n",
            "Epoch 90/150\n",
            "52/52 [==============================] - 0s 3ms/step - loss: 0.5312 - accuracy: 0.7490 - val_loss: 0.5892 - val_accuracy: 0.7165\n",
            "Epoch 91/150\n",
            "52/52 [==============================] - 0s 2ms/step - loss: 0.5473 - accuracy: 0.7237 - val_loss: 0.5890 - val_accuracy: 0.7402\n",
            "Epoch 92/150\n",
            "52/52 [==============================] - 0s 2ms/step - loss: 0.5307 - accuracy: 0.7432 - val_loss: 0.5835 - val_accuracy: 0.7205\n",
            "Epoch 93/150\n",
            "52/52 [==============================] - 0s 2ms/step - loss: 0.5363 - accuracy: 0.7315 - val_loss: 0.5768 - val_accuracy: 0.7244\n",
            "Epoch 94/150\n",
            "52/52 [==============================] - 0s 2ms/step - loss: 0.5453 - accuracy: 0.7140 - val_loss: 0.6079 - val_accuracy: 0.6929\n",
            "Epoch 95/150\n",
            "52/52 [==============================] - 0s 2ms/step - loss: 0.5367 - accuracy: 0.7451 - val_loss: 0.5897 - val_accuracy: 0.7087\n",
            "Epoch 96/150\n",
            "52/52 [==============================] - 0s 3ms/step - loss: 0.5425 - accuracy: 0.7257 - val_loss: 0.6093 - val_accuracy: 0.6890\n",
            "Epoch 97/150\n",
            "52/52 [==============================] - 0s 2ms/step - loss: 0.5266 - accuracy: 0.7510 - val_loss: 0.6078 - val_accuracy: 0.6929\n",
            "Epoch 98/150\n",
            "52/52 [==============================] - 0s 2ms/step - loss: 0.5237 - accuracy: 0.7471 - val_loss: 0.5743 - val_accuracy: 0.7283\n",
            "Epoch 99/150\n",
            "52/52 [==============================] - 0s 3ms/step - loss: 0.5289 - accuracy: 0.7412 - val_loss: 0.5812 - val_accuracy: 0.7323\n",
            "Epoch 100/150\n",
            "52/52 [==============================] - 0s 3ms/step - loss: 0.5234 - accuracy: 0.7549 - val_loss: 0.5697 - val_accuracy: 0.7244\n",
            "Epoch 101/150\n",
            "52/52 [==============================] - 0s 2ms/step - loss: 0.5284 - accuracy: 0.7490 - val_loss: 0.5870 - val_accuracy: 0.7087\n",
            "Epoch 102/150\n",
            "52/52 [==============================] - 0s 2ms/step - loss: 0.5249 - accuracy: 0.7412 - val_loss: 0.6130 - val_accuracy: 0.6732\n",
            "Epoch 103/150\n",
            "52/52 [==============================] - 0s 3ms/step - loss: 0.5165 - accuracy: 0.7510 - val_loss: 0.6042 - val_accuracy: 0.7047\n",
            "Epoch 104/150\n",
            "52/52 [==============================] - 0s 2ms/step - loss: 0.5267 - accuracy: 0.7451 - val_loss: 0.5842 - val_accuracy: 0.7205\n",
            "Epoch 105/150\n",
            "52/52 [==============================] - 0s 3ms/step - loss: 0.5327 - accuracy: 0.7296 - val_loss: 0.7270 - val_accuracy: 0.5827\n",
            "Epoch 106/150\n",
            "52/52 [==============================] - 0s 2ms/step - loss: 0.5404 - accuracy: 0.7471 - val_loss: 0.5921 - val_accuracy: 0.7047\n",
            "Epoch 107/150\n",
            "52/52 [==============================] - 0s 3ms/step - loss: 0.5384 - accuracy: 0.7315 - val_loss: 0.5749 - val_accuracy: 0.7244\n",
            "Epoch 108/150\n",
            "52/52 [==============================] - 0s 3ms/step - loss: 0.5207 - accuracy: 0.7451 - val_loss: 0.5715 - val_accuracy: 0.7559\n",
            "Epoch 109/150\n",
            "52/52 [==============================] - 0s 2ms/step - loss: 0.5245 - accuracy: 0.7490 - val_loss: 0.5797 - val_accuracy: 0.7205\n",
            "Epoch 110/150\n",
            "52/52 [==============================] - 0s 2ms/step - loss: 0.5214 - accuracy: 0.7568 - val_loss: 0.5682 - val_accuracy: 0.7480\n",
            "Epoch 111/150\n",
            "52/52 [==============================] - 0s 2ms/step - loss: 0.5211 - accuracy: 0.7510 - val_loss: 0.5708 - val_accuracy: 0.7480\n",
            "Epoch 112/150\n",
            "52/52 [==============================] - 0s 2ms/step - loss: 0.5220 - accuracy: 0.7451 - val_loss: 0.6897 - val_accuracy: 0.5669\n",
            "Epoch 113/150\n",
            "52/52 [==============================] - 0s 3ms/step - loss: 0.5386 - accuracy: 0.7451 - val_loss: 0.5682 - val_accuracy: 0.7402\n",
            "Epoch 114/150\n",
            "52/52 [==============================] - 0s 2ms/step - loss: 0.5234 - accuracy: 0.7393 - val_loss: 0.5887 - val_accuracy: 0.7323\n",
            "Epoch 115/150\n",
            "52/52 [==============================] - 0s 2ms/step - loss: 0.5296 - accuracy: 0.7335 - val_loss: 0.5706 - val_accuracy: 0.7205\n",
            "Epoch 116/150\n",
            "52/52 [==============================] - 0s 2ms/step - loss: 0.5307 - accuracy: 0.7315 - val_loss: 0.5612 - val_accuracy: 0.7520\n",
            "Epoch 117/150\n",
            "52/52 [==============================] - 0s 3ms/step - loss: 0.5139 - accuracy: 0.7549 - val_loss: 0.5695 - val_accuracy: 0.7244\n",
            "Epoch 118/150\n",
            "52/52 [==============================] - 0s 2ms/step - loss: 0.5087 - accuracy: 0.7607 - val_loss: 0.5807 - val_accuracy: 0.7244\n",
            "Epoch 119/150\n",
            "52/52 [==============================] - 0s 3ms/step - loss: 0.5169 - accuracy: 0.7588 - val_loss: 0.5746 - val_accuracy: 0.7402\n",
            "Epoch 120/150\n",
            "52/52 [==============================] - 0s 3ms/step - loss: 0.5339 - accuracy: 0.7432 - val_loss: 0.5962 - val_accuracy: 0.7008\n",
            "Epoch 121/150\n",
            "52/52 [==============================] - 0s 3ms/step - loss: 0.5344 - accuracy: 0.7335 - val_loss: 0.5567 - val_accuracy: 0.7520\n",
            "Epoch 122/150\n",
            "52/52 [==============================] - 0s 2ms/step - loss: 0.5115 - accuracy: 0.7490 - val_loss: 0.5758 - val_accuracy: 0.7362\n",
            "Epoch 123/150\n",
            "52/52 [==============================] - 0s 2ms/step - loss: 0.5158 - accuracy: 0.7393 - val_loss: 0.5519 - val_accuracy: 0.7402\n",
            "Epoch 124/150\n",
            "52/52 [==============================] - 0s 3ms/step - loss: 0.5154 - accuracy: 0.7529 - val_loss: 0.5558 - val_accuracy: 0.7402\n",
            "Epoch 125/150\n",
            "52/52 [==============================] - 0s 2ms/step - loss: 0.5101 - accuracy: 0.7568 - val_loss: 0.5716 - val_accuracy: 0.7402\n",
            "Epoch 126/150\n",
            "52/52 [==============================] - 0s 3ms/step - loss: 0.5014 - accuracy: 0.7510 - val_loss: 0.5883 - val_accuracy: 0.7323\n",
            "Epoch 127/150\n",
            "52/52 [==============================] - 0s 3ms/step - loss: 0.5135 - accuracy: 0.7412 - val_loss: 0.5695 - val_accuracy: 0.7402\n",
            "Epoch 128/150\n",
            "52/52 [==============================] - 0s 3ms/step - loss: 0.4957 - accuracy: 0.7549 - val_loss: 0.5883 - val_accuracy: 0.7362\n",
            "Epoch 129/150\n",
            "52/52 [==============================] - 0s 3ms/step - loss: 0.5237 - accuracy: 0.7510 - val_loss: 0.5519 - val_accuracy: 0.7638\n",
            "Epoch 130/150\n",
            "52/52 [==============================] - 0s 3ms/step - loss: 0.5167 - accuracy: 0.7257 - val_loss: 0.5630 - val_accuracy: 0.7323\n",
            "Epoch 131/150\n",
            "52/52 [==============================] - 0s 3ms/step - loss: 0.5327 - accuracy: 0.7257 - val_loss: 0.5766 - val_accuracy: 0.7205\n",
            "Epoch 132/150\n",
            "52/52 [==============================] - 0s 3ms/step - loss: 0.5001 - accuracy: 0.7665 - val_loss: 0.5995 - val_accuracy: 0.7008\n",
            "Epoch 133/150\n",
            "52/52 [==============================] - 0s 2ms/step - loss: 0.5136 - accuracy: 0.7412 - val_loss: 0.6178 - val_accuracy: 0.6850\n",
            "Epoch 134/150\n",
            "52/52 [==============================] - 0s 2ms/step - loss: 0.5164 - accuracy: 0.7471 - val_loss: 0.5718 - val_accuracy: 0.7441\n",
            "Epoch 135/150\n",
            "52/52 [==============================] - 0s 3ms/step - loss: 0.5153 - accuracy: 0.7471 - val_loss: 0.5667 - val_accuracy: 0.7480\n",
            "Epoch 136/150\n",
            "52/52 [==============================] - 0s 2ms/step - loss: 0.4984 - accuracy: 0.7529 - val_loss: 0.5665 - val_accuracy: 0.7323\n",
            "Epoch 137/150\n",
            "52/52 [==============================] - 0s 2ms/step - loss: 0.5124 - accuracy: 0.7471 - val_loss: 0.6059 - val_accuracy: 0.6850\n",
            "Epoch 138/150\n",
            "52/52 [==============================] - 0s 2ms/step - loss: 0.5048 - accuracy: 0.7393 - val_loss: 0.5523 - val_accuracy: 0.7677\n",
            "Epoch 139/150\n",
            "52/52 [==============================] - 0s 2ms/step - loss: 0.4883 - accuracy: 0.7529 - val_loss: 0.6098 - val_accuracy: 0.6732\n",
            "Epoch 140/150\n",
            "52/52 [==============================] - 0s 3ms/step - loss: 0.5062 - accuracy: 0.7665 - val_loss: 0.5752 - val_accuracy: 0.7205\n",
            "Epoch 141/150\n",
            "52/52 [==============================] - 0s 3ms/step - loss: 0.5322 - accuracy: 0.7276 - val_loss: 0.5681 - val_accuracy: 0.7520\n",
            "Epoch 142/150\n",
            "52/52 [==============================] - 0s 3ms/step - loss: 0.5048 - accuracy: 0.7549 - val_loss: 0.5646 - val_accuracy: 0.7362\n",
            "Epoch 143/150\n",
            "52/52 [==============================] - 0s 3ms/step - loss: 0.5030 - accuracy: 0.7451 - val_loss: 0.5843 - val_accuracy: 0.7008\n",
            "Epoch 144/150\n",
            "52/52 [==============================] - 0s 3ms/step - loss: 0.5037 - accuracy: 0.7432 - val_loss: 0.5763 - val_accuracy: 0.7244\n",
            "Epoch 145/150\n",
            "52/52 [==============================] - 0s 3ms/step - loss: 0.4993 - accuracy: 0.7763 - val_loss: 0.5505 - val_accuracy: 0.7402\n",
            "Epoch 146/150\n",
            "52/52 [==============================] - 0s 2ms/step - loss: 0.4962 - accuracy: 0.7568 - val_loss: 0.5477 - val_accuracy: 0.7441\n",
            "Epoch 147/150\n",
            "52/52 [==============================] - 0s 3ms/step - loss: 0.4925 - accuracy: 0.7588 - val_loss: 0.5725 - val_accuracy: 0.7323\n",
            "Epoch 148/150\n",
            "52/52 [==============================] - 0s 3ms/step - loss: 0.5002 - accuracy: 0.7646 - val_loss: 0.5753 - val_accuracy: 0.7283\n",
            "Epoch 149/150\n",
            "52/52 [==============================] - 0s 2ms/step - loss: 0.5037 - accuracy: 0.7510 - val_loss: 0.5745 - val_accuracy: 0.7402\n",
            "Epoch 150/150\n",
            "52/52 [==============================] - 0s 2ms/step - loss: 0.5038 - accuracy: 0.7510 - val_loss: 0.5492 - val_accuracy: 0.7480\n"
          ]
        },
        {
          "output_type": "execute_result",
          "data": {
            "text/plain": [
              "<keras.callbacks.History at 0x7f95355f11d0>"
            ]
          },
          "metadata": {},
          "execution_count": 11
        }
      ]
    },
    {
      "cell_type": "code",
      "metadata": {
        "colab": {
          "base_uri": "https://localhost:8080/"
        },
        "id": "NlCcPEoOPzo-",
        "outputId": "0153e02e-1448-4c0d-e45e-1f321fd75aa2"
      },
      "source": [
        "# evaluate the model\n",
        "scores = model.evaluate(X, Y)\n",
        "print(\"%s: %.2f%%\" % (model.metrics_names[1], scores[1]*100))"
      ],
      "execution_count": 12,
      "outputs": [
        {
          "output_type": "stream",
          "name": "stdout",
          "text": [
            "24/24 [==============================] - 0s 2ms/step - loss: 0.5025 - accuracy: 0.7578\n",
            "accuracy: 75.78%\n"
          ]
        }
      ]
    },
    {
      "cell_type": "code",
      "metadata": {
        "id": "HFg_iJNgPzpB"
      },
      "source": [
        ""
      ],
      "execution_count": null,
      "outputs": []
    }
  ]
}