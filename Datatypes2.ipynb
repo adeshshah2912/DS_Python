{
 "cells": [
  {
   "cell_type": "markdown",
   "id": "8e7a8bd7",
   "metadata": {},
   "source": [
    "# 1 List Operations"
   ]
  },
  {
   "cell_type": "markdown",
   "id": "872aaf25",
   "metadata": {},
   "source": [
    "## 1.1 Append "
   ]
  },
  {
   "cell_type": "code",
   "execution_count": 1,
   "id": "77d4c199",
   "metadata": {},
   "outputs": [],
   "source": [
    "languages = [\"Cpp\",\"Java\",\"C#\"]"
   ]
  },
  {
   "cell_type": "code",
   "execution_count": 2,
   "id": "70526d71",
   "metadata": {},
   "outputs": [],
   "source": [
    "languages.append(\"Python\")"
   ]
  },
  {
   "cell_type": "code",
   "execution_count": 3,
   "id": "c74a6102",
   "metadata": {},
   "outputs": [
    {
     "data": {
      "text/plain": [
       "['Cpp', 'Java', 'C#', 'Python']"
      ]
     },
     "execution_count": 3,
     "metadata": {},
     "output_type": "execute_result"
    }
   ],
   "source": [
    "languages"
   ]
  },
  {
   "cell_type": "code",
   "execution_count": null,
   "id": "a851dc13",
   "metadata": {},
   "outputs": [],
   "source": []
  },
  {
   "cell_type": "markdown",
   "id": "fb94ef24",
   "metadata": {},
   "source": [
    "# 1.2 Insert"
   ]
  },
  {
   "cell_type": "code",
   "execution_count": 4,
   "id": "bc8d7703",
   "metadata": {},
   "outputs": [],
   "source": [
    "languages.insert(1,\"Pearl\")"
   ]
  },
  {
   "cell_type": "code",
   "execution_count": 7,
   "id": "e15312f4",
   "metadata": {},
   "outputs": [
    {
     "data": {
      "text/plain": [
       "'Pearl'"
      ]
     },
     "execution_count": 7,
     "metadata": {},
     "output_type": "execute_result"
    }
   ],
   "source": [
    "languages.pop(1)"
   ]
  },
  {
   "cell_type": "code",
   "execution_count": 8,
   "id": "119f70ff",
   "metadata": {},
   "outputs": [
    {
     "data": {
      "text/plain": [
       "['Cpp', 'Java', 'C#', 'Python']"
      ]
     },
     "execution_count": 8,
     "metadata": {},
     "output_type": "execute_result"
    }
   ],
   "source": [
    "languages"
   ]
  },
  {
   "cell_type": "code",
   "execution_count": 9,
   "id": "ee764326",
   "metadata": {},
   "outputs": [],
   "source": [
    "languages.insert(1,\"Perl\")"
   ]
  },
  {
   "cell_type": "code",
   "execution_count": 10,
   "id": "91287aec",
   "metadata": {},
   "outputs": [
    {
     "data": {
      "text/plain": [
       "['Cpp', 'Perl', 'Java', 'C#', 'Python']"
      ]
     },
     "execution_count": 10,
     "metadata": {},
     "output_type": "execute_result"
    }
   ],
   "source": [
    "languages"
   ]
  },
  {
   "cell_type": "code",
   "execution_count": 11,
   "id": "1e4f83c1",
   "metadata": {},
   "outputs": [],
   "source": [
    "languages.insert(-1,\"Ruby\")"
   ]
  },
  {
   "cell_type": "code",
   "execution_count": 12,
   "id": "c1e6e1e1",
   "metadata": {},
   "outputs": [
    {
     "data": {
      "text/plain": [
       "['Cpp', 'Perl', 'Java', 'C#', 'Ruby', 'Python']"
      ]
     },
     "execution_count": 12,
     "metadata": {},
     "output_type": "execute_result"
    }
   ],
   "source": [
    "languages"
   ]
  },
  {
   "cell_type": "code",
   "execution_count": 14,
   "id": "e2e96e88",
   "metadata": {},
   "outputs": [],
   "source": [
    "languages.remove(\"Java\")"
   ]
  },
  {
   "cell_type": "code",
   "execution_count": 15,
   "id": "a36fb3d0",
   "metadata": {},
   "outputs": [
    {
     "data": {
      "text/plain": [
       "['Cpp', 'Perl', 'C#', 'Ruby', 'Python']"
      ]
     },
     "execution_count": 15,
     "metadata": {},
     "output_type": "execute_result"
    }
   ],
   "source": [
    "languages"
   ]
  },
  {
   "cell_type": "code",
   "execution_count": 17,
   "id": "e80f4326",
   "metadata": {},
   "outputs": [
    {
     "data": {
      "text/plain": [
       "'Python'"
      ]
     },
     "execution_count": 17,
     "metadata": {},
     "output_type": "execute_result"
    }
   ],
   "source": [
    "languages.pop()"
   ]
  },
  {
   "cell_type": "code",
   "execution_count": 18,
   "id": "90368a01",
   "metadata": {},
   "outputs": [],
   "source": [
    "languages.append(\"Rust\")\n",
    "languages.append(\"Scala\")"
   ]
  },
  {
   "cell_type": "code",
   "execution_count": 19,
   "id": "bd207870",
   "metadata": {},
   "outputs": [
    {
     "data": {
      "text/plain": [
       "['Cpp', 'Perl', 'C#', 'Ruby', 'Rust', 'Scala']"
      ]
     },
     "execution_count": 19,
     "metadata": {},
     "output_type": "execute_result"
    }
   ],
   "source": [
    "languages"
   ]
  },
  {
   "cell_type": "code",
   "execution_count": 20,
   "id": "d4a93b88",
   "metadata": {},
   "outputs": [],
   "source": [
    "del languages[2]"
   ]
  },
  {
   "cell_type": "code",
   "execution_count": 21,
   "id": "0ebf2aac",
   "metadata": {},
   "outputs": [
    {
     "data": {
      "text/plain": [
       "['Cpp', 'Perl', 'Ruby', 'Rust', 'Scala']"
      ]
     },
     "execution_count": 21,
     "metadata": {},
     "output_type": "execute_result"
    }
   ],
   "source": [
    "languages"
   ]
  },
  {
   "cell_type": "code",
   "execution_count": 22,
   "id": "9e1be897",
   "metadata": {},
   "outputs": [],
   "source": [
    "del languages[1:3]"
   ]
  },
  {
   "cell_type": "code",
   "execution_count": 23,
   "id": "bac0619e",
   "metadata": {},
   "outputs": [
    {
     "data": {
      "text/plain": [
       "['Cpp', 'Rust', 'Scala']"
      ]
     },
     "execution_count": 23,
     "metadata": {},
     "output_type": "execute_result"
    }
   ],
   "source": [
    "languages"
   ]
  },
  {
   "cell_type": "code",
   "execution_count": 25,
   "id": "4d9c4815",
   "metadata": {},
   "outputs": [],
   "source": [
    "del languages[:]"
   ]
  },
  {
   "cell_type": "code",
   "execution_count": 26,
   "id": "58617d71",
   "metadata": {},
   "outputs": [
    {
     "data": {
      "text/plain": [
       "[]"
      ]
     },
     "execution_count": 26,
     "metadata": {},
     "output_type": "execute_result"
    }
   ],
   "source": [
    "languages"
   ]
  },
  {
   "cell_type": "code",
   "execution_count": 27,
   "id": "cd34a04e",
   "metadata": {},
   "outputs": [],
   "source": [
    "languages = [\"Cpp\",\"Python\",\"Ruby\",\"Scala\",\"Rust\"]"
   ]
  },
  {
   "cell_type": "code",
   "execution_count": 28,
   "id": "0e36cdab",
   "metadata": {},
   "outputs": [],
   "source": [
    "numlist= [100,200,300]"
   ]
  },
  {
   "cell_type": "code",
   "execution_count": 29,
   "id": "4a2136ec",
   "metadata": {},
   "outputs": [
    {
     "data": {
      "text/plain": [
       "5"
      ]
     },
     "execution_count": 29,
     "metadata": {},
     "output_type": "execute_result"
    }
   ],
   "source": [
    "len(languages)"
   ]
  },
  {
   "cell_type": "code",
   "execution_count": 30,
   "id": "32b37ee0",
   "metadata": {},
   "outputs": [
    {
     "data": {
      "text/plain": [
       "3"
      ]
     },
     "execution_count": 30,
     "metadata": {},
     "output_type": "execute_result"
    }
   ],
   "source": [
    "len(numlist)"
   ]
  },
  {
   "cell_type": "code",
   "execution_count": 35,
   "id": "71ec9a94",
   "metadata": {},
   "outputs": [],
   "source": [
    "languages.append(numlist)"
   ]
  },
  {
   "cell_type": "code",
   "execution_count": 37,
   "id": "468187eb",
   "metadata": {},
   "outputs": [
    {
     "data": {
      "text/plain": [
       "['Cpp',\n",
       " 'Python',\n",
       " 'Ruby',\n",
       " 'Scala',\n",
       " 'Rust',\n",
       " [100, 200, 300],\n",
       " [100, 200, 300],\n",
       " [100, 200, 300]]"
      ]
     },
     "execution_count": 37,
     "metadata": {},
     "output_type": "execute_result"
    }
   ],
   "source": [
    "languages"
   ]
  },
  {
   "cell_type": "code",
   "execution_count": 38,
   "id": "b2b9e270",
   "metadata": {},
   "outputs": [
    {
     "data": {
      "text/plain": [
       "[100, 200, 300]"
      ]
     },
     "execution_count": 38,
     "metadata": {},
     "output_type": "execute_result"
    }
   ],
   "source": [
    "languages.pop()"
   ]
  },
  {
   "cell_type": "code",
   "execution_count": 39,
   "id": "9168e466",
   "metadata": {},
   "outputs": [
    {
     "data": {
      "text/plain": [
       "[100, 200, 300]"
      ]
     },
     "execution_count": 39,
     "metadata": {},
     "output_type": "execute_result"
    }
   ],
   "source": [
    "languages.pop()"
   ]
  },
  {
   "cell_type": "code",
   "execution_count": 40,
   "id": "bdd4bbef",
   "metadata": {},
   "outputs": [
    {
     "data": {
      "text/plain": [
       "['Cpp', 'Python', 'Ruby', 'Scala', 'Rust', [100, 200, 300]]"
      ]
     },
     "execution_count": 40,
     "metadata": {},
     "output_type": "execute_result"
    }
   ],
   "source": [
    "languages"
   ]
  },
  {
   "cell_type": "code",
   "execution_count": 41,
   "id": "5ef7a5ff",
   "metadata": {},
   "outputs": [
    {
     "data": {
      "text/plain": [
       "200"
      ]
     },
     "execution_count": 41,
     "metadata": {},
     "output_type": "execute_result"
    }
   ],
   "source": [
    "languages[-1][1]"
   ]
  },
  {
   "cell_type": "code",
   "execution_count": 42,
   "id": "2f9e15bf",
   "metadata": {},
   "outputs": [],
   "source": [
    "s= \"WELCOME\""
   ]
  },
  {
   "cell_type": "code",
   "execution_count": 45,
   "id": "12e0b00a",
   "metadata": {},
   "outputs": [],
   "source": [
    "languages.append(s)"
   ]
  },
  {
   "cell_type": "code",
   "execution_count": 46,
   "id": "79f51c8d",
   "metadata": {},
   "outputs": [
    {
     "data": {
      "text/plain": [
       "['Cpp',\n",
       " 'Python',\n",
       " 'Ruby',\n",
       " 'Scala',\n",
       " 'Rust',\n",
       " [100, 200, 300],\n",
       " 'WELCOME',\n",
       " 'WELCOME']"
      ]
     },
     "execution_count": 46,
     "metadata": {},
     "output_type": "execute_result"
    }
   ],
   "source": [
    "languages"
   ]
  },
  {
   "cell_type": "code",
   "execution_count": 47,
   "id": "8c9ed4e0",
   "metadata": {},
   "outputs": [
    {
     "data": {
      "text/plain": [
       "'WELCOME'"
      ]
     },
     "execution_count": 47,
     "metadata": {},
     "output_type": "execute_result"
    }
   ],
   "source": [
    "languages.pop()"
   ]
  },
  {
   "cell_type": "code",
   "execution_count": 48,
   "id": "ec73f268",
   "metadata": {},
   "outputs": [
    {
     "data": {
      "text/plain": [
       "['Cpp', 'Python', 'Ruby', 'Scala', 'Rust', [100, 200, 300], 'WELCOME']"
      ]
     },
     "execution_count": 48,
     "metadata": {},
     "output_type": "execute_result"
    }
   ],
   "source": [
    "languages"
   ]
  },
  {
   "cell_type": "code",
   "execution_count": null,
   "id": "e5d1c7f5",
   "metadata": {},
   "outputs": [],
   "source": []
  },
  {
   "cell_type": "markdown",
   "id": "ef5896e4",
   "metadata": {},
   "source": [
    "# Extend"
   ]
  },
  {
   "cell_type": "code",
   "execution_count": 49,
   "id": "af671075",
   "metadata": {},
   "outputs": [
    {
     "data": {
      "text/plain": [
       "['Cpp', 'Python', 'Ruby', 'Scala', 'Rust', [100, 200, 300], 'WELCOME']"
      ]
     },
     "execution_count": 49,
     "metadata": {},
     "output_type": "execute_result"
    }
   ],
   "source": [
    "languages"
   ]
  },
  {
   "cell_type": "code",
   "execution_count": 50,
   "id": "a6488b51",
   "metadata": {},
   "outputs": [],
   "source": [
    "list2 = [\"TCS\",\"IBM\",\"INFY\"]"
   ]
  },
  {
   "cell_type": "code",
   "execution_count": 51,
   "id": "267f41cd",
   "metadata": {},
   "outputs": [
    {
     "data": {
      "text/plain": [
       "7"
      ]
     },
     "execution_count": 51,
     "metadata": {},
     "output_type": "execute_result"
    }
   ],
   "source": [
    "len(languages)"
   ]
  },
  {
   "cell_type": "code",
   "execution_count": 52,
   "id": "583950ee",
   "metadata": {},
   "outputs": [
    {
     "data": {
      "text/plain": [
       "3"
      ]
     },
     "execution_count": 52,
     "metadata": {},
     "output_type": "execute_result"
    }
   ],
   "source": [
    "len(list2)"
   ]
  },
  {
   "cell_type": "code",
   "execution_count": 53,
   "id": "9d8da320",
   "metadata": {},
   "outputs": [],
   "source": [
    "languages.extend(list2)"
   ]
  },
  {
   "cell_type": "code",
   "execution_count": 54,
   "id": "c5e110e8",
   "metadata": {},
   "outputs": [
    {
     "data": {
      "text/plain": [
       "['Cpp',\n",
       " 'Python',\n",
       " 'Ruby',\n",
       " 'Scala',\n",
       " 'Rust',\n",
       " [100, 200, 300],\n",
       " 'WELCOME',\n",
       " 'TCS',\n",
       " 'IBM',\n",
       " 'INFY']"
      ]
     },
     "execution_count": 54,
     "metadata": {},
     "output_type": "execute_result"
    }
   ],
   "source": [
    "languages"
   ]
  },
  {
   "cell_type": "code",
   "execution_count": 55,
   "id": "4624c7fd",
   "metadata": {},
   "outputs": [
    {
     "data": {
      "text/plain": [
       "[100, 200, 300]"
      ]
     },
     "execution_count": 55,
     "metadata": {},
     "output_type": "execute_result"
    }
   ],
   "source": [
    "languages.pop(5)"
   ]
  },
  {
   "cell_type": "code",
   "execution_count": 56,
   "id": "0903597a",
   "metadata": {},
   "outputs": [],
   "source": [
    "languages.extend(numlist)"
   ]
  },
  {
   "cell_type": "code",
   "execution_count": 57,
   "id": "fa5af5a1",
   "metadata": {},
   "outputs": [
    {
     "data": {
      "text/plain": [
       "['Cpp',\n",
       " 'Python',\n",
       " 'Ruby',\n",
       " 'Scala',\n",
       " 'Rust',\n",
       " 'WELCOME',\n",
       " 'TCS',\n",
       " 'IBM',\n",
       " 'INFY',\n",
       " 100,\n",
       " 200,\n",
       " 300]"
      ]
     },
     "execution_count": 57,
     "metadata": {},
     "output_type": "execute_result"
    }
   ],
   "source": [
    "languages"
   ]
  },
  {
   "cell_type": "code",
   "execution_count": 58,
   "id": "2ac39369",
   "metadata": {},
   "outputs": [],
   "source": [
    "languages.extend(s)"
   ]
  },
  {
   "cell_type": "code",
   "execution_count": 59,
   "id": "0c70cdd6",
   "metadata": {},
   "outputs": [
    {
     "data": {
      "text/plain": [
       "['Cpp',\n",
       " 'Python',\n",
       " 'Ruby',\n",
       " 'Scala',\n",
       " 'Rust',\n",
       " 'WELCOME',\n",
       " 'TCS',\n",
       " 'IBM',\n",
       " 'INFY',\n",
       " 100,\n",
       " 200,\n",
       " 300,\n",
       " 'W',\n",
       " 'E',\n",
       " 'L',\n",
       " 'C',\n",
       " 'O',\n",
       " 'M',\n",
       " 'E']"
      ]
     },
     "execution_count": 59,
     "metadata": {},
     "output_type": "execute_result"
    }
   ],
   "source": [
    "languages"
   ]
  },
  {
   "cell_type": "markdown",
   "id": "79a1e034",
   "metadata": {},
   "source": [
    "# Count"
   ]
  },
  {
   "cell_type": "code",
   "execution_count": 60,
   "id": "f1fc1bc7",
   "metadata": {},
   "outputs": [
    {
     "data": {
      "text/plain": [
       "['Cpp',\n",
       " 'Python',\n",
       " 'Ruby',\n",
       " 'Scala',\n",
       " 'Rust',\n",
       " 'WELCOME',\n",
       " 'TCS',\n",
       " 'IBM',\n",
       " 'INFY',\n",
       " 100,\n",
       " 200,\n",
       " 300,\n",
       " 'W',\n",
       " 'E',\n",
       " 'L',\n",
       " 'C',\n",
       " 'O',\n",
       " 'M',\n",
       " 'E']"
      ]
     },
     "execution_count": 60,
     "metadata": {},
     "output_type": "execute_result"
    }
   ],
   "source": [
    "languages"
   ]
  },
  {
   "cell_type": "code",
   "execution_count": 61,
   "id": "8538aa41",
   "metadata": {},
   "outputs": [
    {
     "data": {
      "text/plain": [
       "1"
      ]
     },
     "execution_count": 61,
     "metadata": {},
     "output_type": "execute_result"
    }
   ],
   "source": [
    "languages.count(100)"
   ]
  },
  {
   "cell_type": "code",
   "execution_count": 63,
   "id": "a5ef9d80",
   "metadata": {},
   "outputs": [
    {
     "data": {
      "text/plain": [
       "1"
      ]
     },
     "execution_count": 63,
     "metadata": {},
     "output_type": "execute_result"
    }
   ],
   "source": [
    "languages.count(\"C\")"
   ]
  },
  {
   "cell_type": "code",
   "execution_count": null,
   "id": "595ef7b9",
   "metadata": {},
   "outputs": [],
   "source": []
  },
  {
   "cell_type": "markdown",
   "id": "9fa8d56e",
   "metadata": {},
   "source": [
    "# Index"
   ]
  },
  {
   "cell_type": "code",
   "execution_count": 65,
   "id": "1fbef63e",
   "metadata": {},
   "outputs": [
    {
     "data": {
      "text/plain": [
       "6"
      ]
     },
     "execution_count": 65,
     "metadata": {},
     "output_type": "execute_result"
    }
   ],
   "source": [
    "languages.index(\"TCS\")"
   ]
  },
  {
   "cell_type": "code",
   "execution_count": 66,
   "id": "77d0879d",
   "metadata": {},
   "outputs": [
    {
     "data": {
      "text/plain": [
       "15"
      ]
     },
     "execution_count": 66,
     "metadata": {},
     "output_type": "execute_result"
    }
   ],
   "source": [
    "languages.index(\"C\")"
   ]
  },
  {
   "cell_type": "code",
   "execution_count": null,
   "id": "b107f46e",
   "metadata": {},
   "outputs": [],
   "source": []
  },
  {
   "cell_type": "markdown",
   "id": "f57fa656",
   "metadata": {},
   "source": [
    "# Mutable vs Immutable"
   ]
  },
  {
   "cell_type": "code",
   "execution_count": 67,
   "id": "997a67b8",
   "metadata": {},
   "outputs": [
    {
     "data": {
      "text/plain": [
       "'WELCOME'"
      ]
     },
     "execution_count": 67,
     "metadata": {},
     "output_type": "execute_result"
    }
   ],
   "source": [
    "s"
   ]
  },
  {
   "cell_type": "code",
   "execution_count": 68,
   "id": "50dcf3cd",
   "metadata": {},
   "outputs": [],
   "source": [
    "languages=[\"Python\",\"Perl\",\"Ruby\"]"
   ]
  },
  {
   "cell_type": "code",
   "execution_count": 69,
   "id": "147844ee",
   "metadata": {},
   "outputs": [],
   "source": [
    "languages[0]=\"Java\""
   ]
  },
  {
   "cell_type": "code",
   "execution_count": 70,
   "id": "62d2bc29",
   "metadata": {},
   "outputs": [
    {
     "data": {
      "text/plain": [
       "['Java', 'Perl', 'Ruby']"
      ]
     },
     "execution_count": 70,
     "metadata": {},
     "output_type": "execute_result"
    }
   ],
   "source": [
    "languages"
   ]
  },
  {
   "cell_type": "code",
   "execution_count": 71,
   "id": "8e512f4c",
   "metadata": {},
   "outputs": [
    {
     "data": {
      "text/plain": [
       "'W'"
      ]
     },
     "execution_count": 71,
     "metadata": {},
     "output_type": "execute_result"
    }
   ],
   "source": [
    "s[0]"
   ]
  },
  {
   "cell_type": "code",
   "execution_count": 73,
   "id": "0b64e9c6",
   "metadata": {},
   "outputs": [],
   "source": [
    "s = \"ZELCOME\""
   ]
  },
  {
   "cell_type": "code",
   "execution_count": 75,
   "id": "244f24e4",
   "metadata": {},
   "outputs": [
    {
     "data": {
      "text/plain": [
       "'ZELCOME'"
      ]
     },
     "execution_count": 75,
     "metadata": {},
     "output_type": "execute_result"
    }
   ],
   "source": [
    "s"
   ]
  },
  {
   "cell_type": "code",
   "execution_count": null,
   "id": "d097c312",
   "metadata": {},
   "outputs": [],
   "source": []
  },
  {
   "cell_type": "markdown",
   "id": "da768eab",
   "metadata": {},
   "source": [
    "# Sort"
   ]
  },
  {
   "cell_type": "code",
   "execution_count": 76,
   "id": "10b546dd",
   "metadata": {},
   "outputs": [
    {
     "data": {
      "text/plain": [
       "['Java', 'Perl', 'Ruby']"
      ]
     },
     "execution_count": 76,
     "metadata": {},
     "output_type": "execute_result"
    }
   ],
   "source": [
    "languages"
   ]
  },
  {
   "cell_type": "code",
   "execution_count": 77,
   "id": "e74808c4",
   "metadata": {},
   "outputs": [],
   "source": [
    "languages.sort()"
   ]
  },
  {
   "cell_type": "code",
   "execution_count": 78,
   "id": "7b53dd9c",
   "metadata": {},
   "outputs": [
    {
     "data": {
      "text/plain": [
       "['Java', 'Perl', 'Ruby']"
      ]
     },
     "execution_count": 78,
     "metadata": {},
     "output_type": "execute_result"
    }
   ],
   "source": [
    "languages"
   ]
  },
  {
   "cell_type": "code",
   "execution_count": 79,
   "id": "5c84b093",
   "metadata": {},
   "outputs": [],
   "source": [
    "languages.append(\"Cpp\")"
   ]
  },
  {
   "cell_type": "code",
   "execution_count": 80,
   "id": "97ee6f38",
   "metadata": {},
   "outputs": [],
   "source": [
    "languages.sort()"
   ]
  },
  {
   "cell_type": "code",
   "execution_count": 81,
   "id": "7bda5ff2",
   "metadata": {},
   "outputs": [
    {
     "data": {
      "text/plain": [
       "['Cpp', 'Java', 'Perl', 'Ruby']"
      ]
     },
     "execution_count": 81,
     "metadata": {},
     "output_type": "execute_result"
    }
   ],
   "source": [
    "languages"
   ]
  },
  {
   "cell_type": "code",
   "execution_count": 85,
   "id": "4605bc0e",
   "metadata": {},
   "outputs": [],
   "source": [
    "languages.reverse()"
   ]
  },
  {
   "cell_type": "code",
   "execution_count": 86,
   "id": "d924dcaf",
   "metadata": {},
   "outputs": [
    {
     "data": {
      "text/plain": [
       "['Ruby', 'Perl', 'Java', 'Cpp']"
      ]
     },
     "execution_count": 86,
     "metadata": {},
     "output_type": "execute_result"
    }
   ],
   "source": [
    "languages"
   ]
  },
  {
   "cell_type": "code",
   "execution_count": null,
   "id": "b2e3fa7f",
   "metadata": {},
   "outputs": [],
   "source": []
  },
  {
   "cell_type": "markdown",
   "id": "503b6dc8",
   "metadata": {},
   "source": [
    "# Tuples"
   ]
  },
  {
   "cell_type": "code",
   "execution_count": 87,
   "id": "9c24c967",
   "metadata": {},
   "outputs": [],
   "source": [
    "vaccines = (\"Covaxin\",\"covishield\",\"Sputnik\")"
   ]
  },
  {
   "cell_type": "code",
   "execution_count": 88,
   "id": "da6ff796",
   "metadata": {},
   "outputs": [
    {
     "data": {
      "text/plain": [
       "3"
      ]
     },
     "execution_count": 88,
     "metadata": {},
     "output_type": "execute_result"
    }
   ],
   "source": [
    "len(vaccines)"
   ]
  },
  {
   "cell_type": "code",
   "execution_count": 89,
   "id": "410243ba",
   "metadata": {},
   "outputs": [
    {
     "data": {
      "text/plain": [
       "'Covaxin'"
      ]
     },
     "execution_count": 89,
     "metadata": {},
     "output_type": "execute_result"
    }
   ],
   "source": [
    "vaccines[0]"
   ]
  },
  {
   "cell_type": "code",
   "execution_count": 90,
   "id": "f5369a2a",
   "metadata": {},
   "outputs": [
    {
     "data": {
      "text/plain": [
       "('Covaxin', 'covishield', 'Sputnik')"
      ]
     },
     "execution_count": 90,
     "metadata": {},
     "output_type": "execute_result"
    }
   ],
   "source": [
    "vaccines[0:]"
   ]
  },
  {
   "cell_type": "code",
   "execution_count": 91,
   "id": "c9ab78fc",
   "metadata": {},
   "outputs": [
    {
     "data": {
      "text/plain": [
       "('covishield', 'Sputnik')"
      ]
     },
     "execution_count": 91,
     "metadata": {},
     "output_type": "execute_result"
    }
   ],
   "source": [
    "vaccines[1:]"
   ]
  },
  {
   "cell_type": "code",
   "execution_count": 92,
   "id": "83bb5879",
   "metadata": {},
   "outputs": [
    {
     "data": {
      "text/plain": [
       "'Sputnik'"
      ]
     },
     "execution_count": 92,
     "metadata": {},
     "output_type": "execute_result"
    }
   ],
   "source": [
    "vaccines[-1]"
   ]
  },
  {
   "cell_type": "markdown",
   "id": "def26519",
   "metadata": {},
   "source": [
    "# Packing"
   ]
  },
  {
   "cell_type": "code",
   "execution_count": 93,
   "id": "a1b2957a",
   "metadata": {},
   "outputs": [],
   "source": [
    "rs = \"Rohit\",39,\"MUM\""
   ]
  },
  {
   "cell_type": "code",
   "execution_count": 94,
   "id": "0726e359",
   "metadata": {},
   "outputs": [
    {
     "name": "stdout",
     "output_type": "stream",
     "text": [
      "('Rohit', 39, 'MUM')\n"
     ]
    }
   ],
   "source": [
    "print(rs)"
   ]
  },
  {
   "cell_type": "code",
   "execution_count": 95,
   "id": "0a758f1f",
   "metadata": {},
   "outputs": [
    {
     "name": "stdout",
     "output_type": "stream",
     "text": [
      "<class 'tuple'>\n"
     ]
    }
   ],
   "source": [
    "print(type(rs))"
   ]
  },
  {
   "cell_type": "code",
   "execution_count": 96,
   "id": "8f7570f0",
   "metadata": {},
   "outputs": [],
   "source": [
    "name,age,team = \"virat\",35,\"RCB\""
   ]
  },
  {
   "cell_type": "code",
   "execution_count": 97,
   "id": "97825613",
   "metadata": {},
   "outputs": [
    {
     "data": {
      "text/plain": [
       "'virat'"
      ]
     },
     "execution_count": 97,
     "metadata": {},
     "output_type": "execute_result"
    }
   ],
   "source": [
    "name"
   ]
  },
  {
   "cell_type": "code",
   "execution_count": 98,
   "id": "0b98b228",
   "metadata": {},
   "outputs": [
    {
     "data": {
      "text/plain": [
       "35"
      ]
     },
     "execution_count": 98,
     "metadata": {},
     "output_type": "execute_result"
    }
   ],
   "source": [
    "age"
   ]
  },
  {
   "cell_type": "code",
   "execution_count": 99,
   "id": "cfae31cf",
   "metadata": {},
   "outputs": [
    {
     "data": {
      "text/plain": [
       "'RCB'"
      ]
     },
     "execution_count": 99,
     "metadata": {},
     "output_type": "execute_result"
    }
   ],
   "source": [
    "team"
   ]
  },
  {
   "cell_type": "code",
   "execution_count": 102,
   "id": "c7bdd278",
   "metadata": {},
   "outputs": [],
   "source": [
    "name,age,*team = \"virat\",35,\"RCB\",\"India\""
   ]
  },
  {
   "cell_type": "code",
   "execution_count": 103,
   "id": "6c46e2ab",
   "metadata": {},
   "outputs": [
    {
     "data": {
      "text/plain": [
       "['RCB', 'India']"
      ]
     },
     "execution_count": 103,
     "metadata": {},
     "output_type": "execute_result"
    }
   ],
   "source": [
    "team"
   ]
  },
  {
   "cell_type": "code",
   "execution_count": null,
   "id": "ee91eeac",
   "metadata": {},
   "outputs": [],
   "source": [
    " "
   ]
  }
 ],
 "metadata": {
  "kernelspec": {
   "display_name": "Python 3",
   "language": "python",
   "name": "python3"
  },
  "language_info": {
   "codemirror_mode": {
    "name": "ipython",
    "version": 3
   },
   "file_extension": ".py",
   "mimetype": "text/x-python",
   "name": "python",
   "nbconvert_exporter": "python",
   "pygments_lexer": "ipython3",
   "version": "3.8.8"
  }
 },
 "nbformat": 4,
 "nbformat_minor": 5
}
